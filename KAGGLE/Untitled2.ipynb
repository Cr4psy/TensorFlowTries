{
 "cells": [
  {
   "cell_type": "code",
   "execution_count": 70,
   "metadata": {},
   "outputs": [
    {
     "name": "stdout",
     "output_type": "stream",
     "text": [
      "-134.963\n"
     ]
    }
   ],
   "source": [
    "import tensorflow as tf\n",
    "import numpy as np\n",
    "\n",
    "\n",
    "xarr=np.array([[1,2,3,4,5],[1,2,3,4,5],[1,2,3,4,5],[1,2,3,4,5],[1,2,3,4,5]])\n",
    "yarr=np.array([[0,0,0,0,0],[1,1,1,1,1],[2,2,2,2,2],[3,3,3,3,3],[4,4,4,4,4]])\n",
    "yarr= np.random.rand(5,5)\n",
    "#print(yarr)\n",
    "#y=tf.Variable(yarr,dtype=tf.float32)\n",
    "\n",
    "mul=tf.Variable(3,dtype=tf.float32)\n",
    "\n",
    "x = tf.placeholder(tf.float32, shape=(5,5))\n",
    "y = tf.placeholder(tf.float32,shape=(5,5))\n",
    "z = tf.reduce_sum(tf.square((tf.subtract(x,y))))\n",
    "\n",
    "train_step = tf.train.GradientDescentOptimizer(0.5).minimize(z)\n",
    "\n",
    "with tf.Session() as sess:\n",
    "    init = tf.global_variables_initializer()\n",
    "    sess.run(init)\n",
    "    sess.run(train_step, feed_dict={x: xarr, y: yarr})\n",
    "    print(sess.run(mul))"
   ]
  }
 ],
 "metadata": {
  "kernelspec": {
   "display_name": "Python 3",
   "language": "python",
   "name": "python3"
  },
  "language_info": {
   "codemirror_mode": {
    "name": "ipython",
    "version": 3
   },
   "file_extension": ".py",
   "mimetype": "text/x-python",
   "name": "python",
   "nbconvert_exporter": "python",
   "pygments_lexer": "ipython3",
   "version": "3.5.3"
  }
 },
 "nbformat": 4,
 "nbformat_minor": 2
}
