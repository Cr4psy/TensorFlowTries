{
 "cells": [
  {
   "cell_type": "markdown",
   "metadata": {},
   "source": [
    "# Import"
   ]
  },
  {
   "cell_type": "code",
   "execution_count": 175,
   "metadata": {
    "collapsed": true
   },
   "outputs": [],
   "source": [
    "from __future__ import print_function\n",
    "import numpy as np\n",
    "import tensorflow as tf\n",
    "import cv2\n",
    "from subprocess import check_output\n",
    "import os\n",
    "import csv"
   ]
  },
  {
   "cell_type": "markdown",
   "metadata": {},
   "source": [
    "# Parameters"
   ]
  },
  {
   "cell_type": "code",
   "execution_count": 176,
   "metadata": {
    "collapsed": true
   },
   "outputs": [],
   "source": [
    "labelsPath = 'C:/Users/ANTHO/Desktop/TestTensorFlow/KAGGLE/Dataset/train.csv'\n",
    "\n",
    "epochs=2000\n",
    "batchSize=100\n",
    "learningRate=1e-2\n",
    "#dropOutFactor=0.5\n",
    "trainSize=700\n",
    "testSize=200\n"
   ]
  },
  {
   "cell_type": "markdown",
   "metadata": {},
   "source": [
    "# Extract the Labels"
   ]
  },
  {
   "cell_type": "markdown",
   "metadata": {
    "collapsed": true
   },
   "source": [
    "#Matrix with all the labels and \n",
    "with open(labelsPath, 'r') as f:\n",
    "    reader = csv.reader(f)\n",
    "    labels = np.matrix(list(reader), dtype=float)/100"
   ]
  },
  {
   "cell_type": "code",
   "execution_count": 177,
   "metadata": {},
   "outputs": [],
   "source": [
    "with open(labelsPath, 'r') as f:\n",
    "    reader = csv.reader(f)\n",
    "    labels = np.matrix(list(reader))\n",
    "    labels = labels[1:]#Remove the header line\n",
    "\n",
    "    \n",
    "labelsIn=labels[...,6]\n",
    "labelsOut=labels[...,1:6]\n",
    "    "
   ]
  },
  {
   "cell_type": "markdown",
   "metadata": {},
   "source": [
    "# Select size of train and test "
   ]
  },
  {
   "cell_type": "code",
   "execution_count": 178,
   "metadata": {
    "collapsed": true
   },
   "outputs": [],
   "source": [
    "#Size of the training set\n",
    "sizeTot= (labels.shape[0]) #Nb of image in the dataset (from 0)\n",
    "\n",
    "if (sizeTot-trainSize-testSize)<0:\n",
    "    testSize=sizeTot-trainSize\n",
    "    print('Not enough data for the test set')\n",
    "    print('Only ', testSize, ' used for the test dataset')\n",
    "\n",
    "labelsInTest = labelsIn[(sizeTot-testSize):]\n",
    "labelsOutTest = labelsOut[(sizeTot-testSize):]\n",
    "\n",
    "if trainSize>sizeTot:\n",
    "    trainSize=sizeTot\n",
    "    print('Size of the training data bigger than the dataset !')\n",
    "#Training set\n",
    "labelsInTrain=labelsIn[0:trainSize]\n",
    "labelsOutTrain=labelsOut[0:trainSize]\n"
   ]
  },
  {
   "cell_type": "markdown",
   "metadata": {},
   "source": [
    "# Convolutional Neural Network"
   ]
  },
  {
   "cell_type": "code",
   "execution_count": 179,
   "metadata": {
    "collapsed": true
   },
   "outputs": [],
   "source": [
    "#Function\n",
    "def compute_accuracy(v_xs, v_ys):\n",
    "    global prediction\n",
    "    y_pre = sess.run(prediction, feed_dict={xs: v_xs})\n",
    "    y_pre = tf.cast(y_pre, tf.float32)#Force float32\n",
    "    #correct_prediction = tf.equal(tf.argmax(y_pre,1), tf.argmax(v_ys,1))\n",
    "    #accuracy = tf.reduce_mean(tf.cast(correct_prediction, tf.float32))\n",
    "    accuracy = tf.reduce_sum(tf.square((tf.subtract(y_pre,  v_ys))))\n",
    "    result = sess.run(accuracy, feed_dict={xs: v_xs, ys: v_ys})\n",
    "    return result\n",
    "\n",
    "def weight_variable(shape):\n",
    "    initial = tf.truncated_normal(shape=shape, stddev=0.1)\n",
    "    return tf.Variable(initial)\n",
    "\n",
    "def bias_variable(shape):\n",
    "    initial = tf.constant(0.1, shape=shape)\n",
    "    return tf.Variable(initial)\n"
   ]
  },
  {
   "cell_type": "code",
   "execution_count": 180,
   "metadata": {},
   "outputs": [],
   "source": [
    "## Architecture\n",
    "\n",
    "## Input layer ##\n",
    "with tf.name_scope(\"Input\") as scope:\n",
    "    # define placeholder for inputs to network\n",
    "    #input\n",
    "    xs = tf.placeholder(tf.float32, [None, 1])\n",
    "    #output\n",
    "    ys = tf.placeholder(tf.float32, [None, 5])\n",
    "    \n",
    "\n",
    "## fc1 layer ##\n",
    "with tf.name_scope(\"FC1\") as scope:\n",
    "    sizeIn=1\n",
    "    sizeOut=10\n",
    "    W_fc1 = weight_variable([sizeIn, sizeOut])\n",
    "    b_fc1 = bias_variable([sizeOut])\n",
    "    h_fc1 = tf.nn.relu(tf.matmul(xs, W_fc1) + b_fc1)\n",
    "\n",
    "## fc2 layer ##\n",
    "with tf.name_scope(\"FC2\") as scope:\n",
    "    sizeIn=sizeOut\n",
    "    sizeOut=5\n",
    "    W_fc2 = weight_variable([sizeIn, sizeOut])\n",
    "    b_fc2 = bias_variable([sizeOut])\n",
    "    prediction = tf.matmul(h_fc1, W_fc2) + b_fc2\n",
    "\n",
    "## Loss function ##\n",
    "# the error between prediction and real data\n",
    "#cross_entropy = tf.reduce_mean(-tf.reduce_sum(ys * tf.log(prediction),reduction_indices=[1]))# loss\n",
    "with tf.name_scope(\"cost_function\") as scope:\n",
    "    cross_entropy = tf.reduce_sum(tf.square((tf.subtract(prediction, ys))))#Euclidean distance\n",
    "    tf.summary.scalar(\"cost_function\", cross_entropy)\n",
    "    \n",
    "with tf.name_scope(\"train\") as scope:\n",
    "    train_step = tf.train.AdamOptimizer(learningRate).minimize(cross_entropy)\n",
    "    #train_step = tf.train.GradientDescentOptimizer(0.9).minimize(cross_entropy)\n",
    "    \n"
   ]
  },
  {
   "cell_type": "code",
   "execution_count": 181,
   "metadata": {
    "scrolled": true
   },
   "outputs": [
    {
     "name": "stdout",
     "output_type": "stream",
     "text": [
      "0\n",
      "2.39981e+06\n",
      "100\n",
      "367480.0\n",
      "200\n",
      "351830.0\n",
      "300\n",
      "348746.0\n",
      "400\n",
      "349236.0\n",
      "500\n",
      "347464.0\n",
      "600\n",
      "347454.0\n",
      "700\n",
      "346910.0\n",
      "800\n",
      "346756.0\n",
      "900\n",
      "347319.0\n",
      "1000\n",
      "346288.0\n",
      "1100\n",
      "346679.0\n",
      "1200\n",
      "345789.0\n",
      "1300\n",
      "346323.0\n",
      "1400\n",
      "346342.0\n",
      "1500\n",
      "346047.0\n",
      "1600\n",
      "347027.0\n",
      "1700\n",
      "346457.0\n",
      "1800\n",
      "347066.0\n",
      "1900\n",
      "345993.0\n"
     ]
    }
   ],
   "source": [
    "#Training\n",
    "if int((tf.__version__).split('.')[1]) < 12 and int((tf.__version__).split('.')[0]) < 1:\n",
    "    init = tf.initialize_all_variables()\n",
    "else:\n",
    "    init = tf.global_variables_initializer()\n",
    "# Merge all summaries into a single operator\n",
    "merged_summary_op = tf.summary.merge_all()\n",
    "\n",
    "saver = tf.train.Saver([W_fc1,b_fc1, W_fc2, b_fc2])\n",
    "\n",
    "with tf.Session() as sess:\n",
    "#sess = tf.Session()\n",
    "# important step\n",
    "# tf.initialize_all_variables() no long valid from\n",
    "# 2017-03-02 if using tensorflow >= 0.12\n",
    "\n",
    "    sess.run(init)\n",
    "    \n",
    "    # Folder where the data are saved\n",
    "    summary_writer = tf.summary.FileWriter('C:/Users/ANTHO/Desktop/TestTensorFlow/KAGGLE/Measure/Classes/', sess.graph)\n",
    "\n",
    "    if int(len(labelsInTrain)) < batchSize:#If there are less data than the batch size\n",
    "        nbBatch=1\n",
    "    else:\n",
    "        nbBatch=int((len(labelsInTrain))/batchSize)\n",
    "\n",
    "    #print(compute_accuracy(imgsTest, labelsHotTest))\n",
    "    for i in range(epochs):#Go through all the epochs\n",
    "        for batchNum in range(nbBatch):#Go through all the batches\n",
    "            if batchSize==1:\n",
    "                batch_xs = labelsInTrain[batchNum*batchSize]\n",
    "                batch_ys = labelsOutTrain[batchNum*batchSize]\n",
    "            else:\n",
    "                batch_xs = labelsInTrain[batchNum*batchSize:(batchNum*batchSize+(batchSize-1))]\n",
    "                batch_ys = labelsOutTrain[batchNum*batchSize:(batchNum*batchSize+(batchSize-1))]\n",
    "\n",
    "            sess.run(train_step, feed_dict={xs: batch_xs, ys: batch_ys})\n",
    "        if i % 100 == 0:\n",
    "            print(i)\n",
    "            print(compute_accuracy(labelsInTest, labelsOutTest))\n",
    "            saver.save(sess, './Measure/my-model', global_step=i)\n",
    "            \n",
    "            #summary_str = sess.run(merged_summary_op, feed_dict={xs: batch_xs, ys: batch_ys, keep_prob: dropOutFactor})\n",
    "            #summary_writer.add_summary(summary_str, i*int(len(imgs)/batchSize) + batchNum)\n",
    "            #cost_history = np.append(cost_history,sess.run(cross_entropy,feed_dict={xs: batch_xs, ys: batch_ys, keep_prob: dropOutFactor}))\n",
    "            #weigthMeasure = sess.run(W_conv1,feed_dict={xs: batch_xs, ys: batch_ys, keep_prob: dropOutFactor})\n",
    "        #if i % 1 == 0:\n",
    "            #print(i)\n",
    "            #print(weigthMeasure)\n",
    "            #print(compute_accuracy(imgsTest, labelsHotTest)) \n",
    "\n"
   ]
  }
 ],
 "metadata": {
  "kernelspec": {
   "display_name": "Python 3",
   "language": "python",
   "name": "python3"
  },
  "language_info": {
   "codemirror_mode": {
    "name": "ipython",
    "version": 3
   },
   "file_extension": ".py",
   "mimetype": "text/x-python",
   "name": "python",
   "nbconvert_exporter": "python",
   "pygments_lexer": "ipython3",
   "version": "3.5.3"
  }
 },
 "nbformat": 4,
 "nbformat_minor": 2
}
