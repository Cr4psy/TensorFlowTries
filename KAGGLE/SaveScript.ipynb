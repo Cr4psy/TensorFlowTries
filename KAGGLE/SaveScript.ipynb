{
 "cells": [
  {
   "cell_type": "code",
   "execution_count": 1,
   "metadata": {
    "collapsed": true
   },
   "outputs": [],
   "source": [
    "import tensorflow as tf\n",
    "\n",
    "#import os\n",
    "#dir = os.path.dirname(os.path.realpath('C:/Users/ANTHO/Desktop/TestTensorFlow/KAGGLE/'))\n",
    "dir = 'C:/Users/ANTHO/Desktop/TestTensorFlow/KAGGLE/Checkpoint/'"
   ]
  },
  {
   "cell_type": "code",
   "execution_count": 2,
   "metadata": {},
   "outputs": [
    {
     "name": "stdout",
     "output_type": "stream",
     "text": [
      "300.0\n"
     ]
    }
   ],
   "source": [
    "\n",
    "# First, you design your mathematical operations\n",
    "# We are the default graph scope\n",
    "\n",
    "# Let's design a variable\n",
    "v1 = tf.Variable(200., name=\"v1\")\n",
    "v2 = tf.Variable(100. , name=\"v2\")\n",
    "# Let's design an operation\n",
    "a = tf.add(v1, v2)\n",
    "\n",
    "# Let's create a Saver object\n",
    "# By default, the Saver handles every Variables related to the default graph\n",
    "#all_saver = tf.train.Saver() \n",
    "# But you can precise which vars you want to save under which name\n",
    "#v2_saver = tf.train.Saver({\"v2\": v2}) \n",
    "\n",
    "# By default the Session handles the default graph and all its included variables\n",
    "with tf.Session() as sess:\n",
    "  # Init v and v2   \n",
    "    sess.run(tf.global_variables_initializer())\n",
    "    saver = tf.train.Saver()\n",
    "    saver.save(sess, dir+'my_model_try')\n",
    "    b = sess.run(a)\n",
    "    print(b)\n",
    "  # Now v1 holds the value 1.0 and v2 holds the value 2.0\n",
    "  # We can now save all those values\n",
    "    #all_saver.save(sess, dir + '/data-all.chkp')\n",
    "  # or saves only v2\n",
    "    #v2_saver.save(sess, dir + '/data-v2.chkp')\n",
    "\n",
    "    #saver.restore(sess, 'C:/Users/ANTHO/Desktop/TestTensorFlow/KAGGLE/Checkpoint/checkpoint')\n",
    "    #saver = tf.train.import_meta_graph(dir + 'data-v2.chkp.meta')\n",
    "    #graph = tf.get_default_graph()\n",
    "    #saver.restore(sess,dir+'data-v2.chkp.data-00000-of-00001')\n",
    "                  "
   ]
  },
  {
   "cell_type": "code",
   "execution_count": 5,
   "metadata": {},
   "outputs": [
    {
     "name": "stdout",
     "output_type": "stream",
     "text": [
      "102.0\n"
     ]
    }
   ],
   "source": [
    "## Take the value of v1 from the saving part\n",
    "\n",
    "## INITIALIZE VARIABLE ##\n",
    "v1_r = tf.Variable(1. , name=\"v1_r\")\n",
    "v2_r = tf.Variable(2. , name=\"v2_r\")\n",
    "\n",
    "\n",
    "## RESTORE SAVED VALUE ##\n",
    "with tf.Session() as sess:\n",
    "    sess.run(tf.global_variables_initializer())\n",
    "    saver = tf.train.import_meta_graph(dir+'my_model_try.meta')\n",
    "    graph = tf.get_default_graph()\n",
    "    #saver_v2.restore(sess, dir+'my_model_try')\n",
    "    v1_r = graph.get_tensor_by_name(\"v2:0\")\n",
    "\n",
    "# Let's design a variable\n",
    "#v1_r = tf.Variable(1. , name=\"v1_r\")\n",
    "#v2_r = tf.Variable(2. , name=\"v2_r\")\n",
    "# Let's design an operation\n",
    "\n",
    "## RUN SCRIPT ##\n",
    "a = tf.add(v1_r, v2_r)\n",
    "\n",
    "with tf.Session() as sess:\n",
    "    sess.run(tf.global_variables_initializer())\n",
    "    b = sess.run(a)\n",
    "    print(b)\n"
   ]
  }
 ],
 "metadata": {
  "kernelspec": {
   "display_name": "Python 3",
   "language": "python",
   "name": "python3"
  },
  "language_info": {
   "codemirror_mode": {
    "name": "ipython",
    "version": 3
   },
   "file_extension": ".py",
   "mimetype": "text/x-python",
   "name": "python",
   "nbconvert_exporter": "python",
   "pygments_lexer": "ipython3",
   "version": "3.5.3"
  }
 },
 "nbformat": 4,
 "nbformat_minor": 2
}
