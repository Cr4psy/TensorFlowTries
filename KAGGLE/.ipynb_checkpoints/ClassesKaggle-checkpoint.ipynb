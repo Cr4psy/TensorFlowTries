{
 "cells": [
  {
   "cell_type": "markdown",
   "metadata": {},
   "source": [
    "# Import"
   ]
  },
  {
   "cell_type": "code",
   "execution_count": 1,
   "metadata": {
    "collapsed": true
   },
   "outputs": [],
   "source": [
    "from __future__ import print_function\n",
    "import numpy as np\n",
    "import tensorflow as tf\n",
    "import cv2\n",
    "from subprocess import check_output\n",
    "import os\n",
    "import csv"
   ]
  },
  {
   "cell_type": "markdown",
   "metadata": {},
   "source": [
    "# Parameters"
   ]
  },
  {
   "cell_type": "code",
   "execution_count": 2,
   "metadata": {
    "collapsed": true
   },
   "outputs": [],
   "source": [
    "labelsPath = 'C:/Users/ANTHO/Desktop/TestTensorFlow/KAGGLE/Dataset/train.csv'\n",
    "\n",
    "epochs=2000\n",
    "batchSize=100\n",
    "learningRate=1e-4\n",
    "#dropOutFactor=0.5\n",
    "trainSize=700\n",
    "testSize=300\n"
   ]
  },
  {
   "cell_type": "markdown",
   "metadata": {},
   "source": [
    "# Extract the Labels"
   ]
  },
  {
   "cell_type": "markdown",
   "metadata": {
    "collapsed": true
   },
   "source": [
    "#Matrix with all the labels and \n",
    "with open(labelsPath, 'r') as f:\n",
    "    reader = csv.reader(f)\n",
    "    labels = np.matrix(list(reader), dtype=float)/100"
   ]
  },
  {
   "cell_type": "code",
   "execution_count": 3,
   "metadata": {},
   "outputs": [],
   "source": [
    "with open(labelsPath, 'r') as f:\n",
    "    reader = csv.reader(f)\n",
    "    labels = np.matrix(list(reader))\n",
    "    labels = labels[1:]#Remove the header line\n",
    "\n",
    "    \n",
    "labelsIn=labels[...,6]\n",
    "labelsOut=labels[...,1:6]\n",
    "    "
   ]
  },
  {
   "cell_type": "markdown",
   "metadata": {},
   "source": [
    "# Select size of train and test "
   ]
  },
  {
   "cell_type": "code",
   "execution_count": 4,
   "metadata": {},
   "outputs": [
    {
     "name": "stdout",
     "output_type": "stream",
     "text": [
      "Not enough data for the test set\n",
      "Only  248  used for the test dataset\n"
     ]
    }
   ],
   "source": [
    "#Size of the training set\n",
    "sizeTot= (labels.shape[0]) #Nb of image in the dataset (from 0)\n",
    "\n",
    "if (sizeTot-trainSize-testSize)<0:\n",
    "    testSize=sizeTot-trainSize\n",
    "    print('Not enough data for the test set')\n",
    "    print('Only ', testSize, ' used for the test dataset')\n",
    "\n",
    "labelsInTest = labelsIn[(sizeTot-testSize):]\n",
    "labelsOutTest = labelsOut[(sizeTot-testSize):]\n",
    "\n",
    "if trainSize>sizeTot:\n",
    "    trainSize=sizeTot\n",
    "    print('Size of the training data bigger than the dataset !')\n",
    "#Training set\n",
    "labelsInTrain=labelsIn[0:trainSize]\n",
    "labelsOutTrain=labelsOut[0:trainSize]\n",
    "\n"
   ]
  },
  {
   "cell_type": "markdown",
   "metadata": {},
   "source": [
    "# Convolutional Neural Network"
   ]
  },
  {
   "cell_type": "code",
   "execution_count": 5,
   "metadata": {
    "collapsed": true
   },
   "outputs": [],
   "source": [
    "## PARAMETERS ##\n",
    "tensorBoard=False      #Save a summary?\n",
    "saveVariable=False     #Save the variabe?\n",
    "retrieveSavedVariable=True #Retrieve saved variable?"
   ]
  },
  {
   "cell_type": "code",
   "execution_count": 6,
   "metadata": {
    "collapsed": true
   },
   "outputs": [],
   "source": [
    "#Function\n",
    "def compute_accuracy(v_xs, v_ys):\n",
    "    global prediction\n",
    "    y_pre = sess.run(prediction, feed_dict={xs: v_xs})\n",
    "    y_pre = tf.cast(y_pre, tf.float32)#Force float32\n",
    "    #correct_prediction = tf.equal(tf.argmax(y_pre,1), tf.argmax(v_ys,1))\n",
    "    #accuracy = tf.reduce_mean(tf.cast(correct_prediction, tf.float32))\n",
    "    accuracy = tf.reduce_sum(tf.square((tf.subtract(y_pre,  v_ys))))\n",
    "    result = sess.run(accuracy, feed_dict={xs: v_xs, ys: v_ys})\n",
    "    return result\n",
    "\n",
    "def compute_prediciton(v_xs):\n",
    "    global prediction\n",
    "    y_pre = sess.run(prediction, feed_dict={xs: v_xs})\n",
    "    y_pre = tf.cast(y_pre, tf.float32)#Force float32\n",
    "    return prediciton\n",
    "\n",
    "def weight_variable(shape, nameIn):\n",
    "    initial = tf.truncated_normal(shape=shape, stddev=0.1)\n",
    "    return tf.Variable(initial, name=nameIn)\n",
    "\n",
    "def bias_variable(shape, nameIn):\n",
    "    initial = tf.constant(0.1, shape=shape)\n",
    "    return tf.Variable(initial, name=nameIn)\n"
   ]
  },
  {
   "cell_type": "code",
   "execution_count": 7,
   "metadata": {},
   "outputs": [],
   "source": [
    "### RETRIEVE saved data ###\n",
    "if retrieveSavedVariable:\n",
    "    with tf.Session() as sess:\n",
    "        sess.run(tf.global_variables_initializer())\n",
    "        saver = tf.train.import_meta_graph('./Measure/Classes/aaa-1900.meta')\n",
    "        graph = tf.get_default_graph()\n",
    "        W_fc1=graph.get_tensor_by_name(\"FC1/W_fc1:0\")\n",
    "        b_fc1=graph.get_tensor_by_name(\"FC1/b_fc1:0\")\n",
    "        W_fc2=graph.get_tensor_by_name(\"FC2/W_fc2:0\")\n",
    "        b_fc2=graph.get_tensor_by_name(\"FC2/b_fc2:0\")"
   ]
  },
  {
   "cell_type": "code",
   "execution_count": 8,
   "metadata": {},
   "outputs": [],
   "source": [
    "## Architecture\n",
    "## Input layer ##\n",
    "with tf.name_scope(\"Input\") as scope:\n",
    "    # define placeholder for inputs to network\n",
    "    #input\n",
    "    xs = tf.placeholder(tf.float32, [None, 1])\n",
    "    #output\n",
    "    ys = tf.placeholder(tf.float32, [None, 5])\n",
    "    \n",
    "\n",
    "## fc1 layer ##\n",
    "with tf.name_scope(\"FC1\") as scope:\n",
    "    sizeIn=1\n",
    "    sizeOut=10\n",
    "    W_fc1 = weight_variable([sizeIn, sizeOut],\"W_fc1\")\n",
    "    b_fc1 = bias_variable([sizeOut], \"b_fc1\")\n",
    "    h_fc1 = tf.nn.relu(tf.matmul(xs, W_fc1) + b_fc1)\n",
    "    #h_fc1 = tf.stop_gradient(h_fc1)#Stop the gradient for this operation\n",
    "    w_h_fc1 = tf.summary.histogram(\"wFC1\",  W_fc1)\n",
    "    b_h_fc1 = tf.summary.histogram(\"bFC1\", b_fc1)\n",
    "    \n",
    "\n",
    "## fc2 layer ##\n",
    "with tf.name_scope(\"FC2\") as scope:\n",
    "    sizeIn=sizeOut\n",
    "    sizeOut=5\n",
    "    W_fc2 = weight_variable([sizeIn, sizeOut],\"W_fc2\")\n",
    "    b_fc2 = bias_variable([sizeOut], \"b_fc2\")\n",
    "    prediction = tf.matmul(h_fc1, W_fc2) + b_fc2\n",
    "    w_h_fc2 = tf.summary.histogram(\"wFC2\",  W_fc2)\n",
    "    b_h_fc2 = tf.summary.histogram(\"bFC2\", b_fc2)\n",
    "    \n",
    "\n",
    "## Loss function ##\n",
    "# the error between prediction and real data\n",
    "#cross_entropy = tf.reduce_mean(-tf.reduce_sum(ys * tf.log(prediction),reduction_indices=[1]))# loss\n",
    "with tf.name_scope(\"cost_function\") as scope:\n",
    "    cross_entropy = tf.reduce_sum(tf.square((tf.subtract(prediction, ys))))#Euclidean distance\n",
    "    tf.summary.scalar(\"cost_function\", cross_entropy)\n",
    "    \n",
    "with tf.name_scope(\"train\") as scope:\n",
    "    train_step = tf.train.AdamOptimizer(learningRate).minimize(cross_entropy)\n",
    "    #train_step = tf.train.GradientDescentOptimizer(0.9).minimize(cross_entropy)\n",
    "    \n"
   ]
  },
  {
   "cell_type": "code",
   "execution_count": 9,
   "metadata": {},
   "outputs": [
    {
     "name": "stdout",
     "output_type": "stream",
     "text": [
      "0\n",
      "3.55272e+06\n",
      "100\n",
      "2.71966e+06\n",
      "200\n",
      "1.68178e+06\n",
      "300\n",
      "1.06929e+06\n",
      "400\n",
      "809725.0\n",
      "500\n",
      "756438.0\n",
      "600\n",
      "750095.0\n",
      "700\n",
      "747360.0\n",
      "800\n",
      "745132.0\n",
      "900\n",
      "742953.0\n",
      "1000\n",
      "740761.0\n",
      "1100\n",
      "738527.0\n",
      "1200\n",
      "736291.0\n",
      "1300\n",
      "734070.0\n",
      "1400\n",
      "731895.0\n",
      "1500\n",
      "729793.0\n",
      "1600\n",
      "727791.0\n",
      "1700\n",
      "725894.0\n",
      "1800\n",
      "724108.0\n",
      "1900\n",
      "722447.0\n"
     ]
    }
   ],
   "source": [
    "## INITIALISATION ##\n",
    "if int((tf.__version__).split('.')[1]) < 12 and int((tf.__version__).split('.')[0]) < 1:\n",
    "    init = tf.initialize_all_variables()\n",
    "else:\n",
    "    init = tf.global_variables_initializer()\n",
    "\n",
    "## TENSOR BOARD ##\n",
    "if tensorBoard:\n",
    "    # Merge all summaries into a single operator\n",
    "    merged_summary_op = tf.summary.merge_all()    \n",
    "    \n",
    "with tf.Session() as sess:\n",
    "    sess.run(init)\n",
    "    \n",
    "    ### SAVE DATA ###\n",
    "    if saveVariable:\n",
    "        saver = tf.train.Saver()\n",
    " \n",
    "    ### TENSORBOARD ###\n",
    "    if tensorBoard:\n",
    "        # Folder where the data are saved\n",
    "        summary_writer = tf.summary.FileWriter('./Measure/Classes/V2/', sess.graph)\n",
    "\n",
    "        \n",
    "    ## BATCH COMPUTATION ##\n",
    "    if int(len(labelsInTrain)) < batchSize:#If there are less data than the batch size\n",
    "        nbBatch=1\n",
    "    else:\n",
    "        nbBatch=int((len(labelsInTrain))/batchSize)\n",
    "    #print(compute_accuracy(imgsTest, labelsHotTest))\n",
    "    for i in range(epochs):#Go through all the epochs\n",
    "        for batchNum in range(nbBatch):#Go through all the batches\n",
    "            if batchSize==1:\n",
    "                batch_xs = labelsInTrain[batchNum*batchSize]\n",
    "                batch_ys = labelsOutTrain[batchNum*batchSize]\n",
    "            else:\n",
    "                batch_xs = labelsInTrain[batchNum*batchSize:(batchNum*batchSize+(batchSize-1))]\n",
    "                batch_ys = labelsOutTrain[batchNum*batchSize:(batchNum*batchSize+(batchSize-1))]\n",
    "                \n",
    "            sess.run(train_step, feed_dict={xs: batch_xs, ys: batch_ys})\n",
    "        if i % 100 == 0:\n",
    "            print(i)\n",
    "            print(compute_accuracy(labelsInTest, labelsOutTest))\n",
    "            \n",
    "            ### SAVE DATA ###\n",
    "            if saveVariable:\n",
    "                saver.save(sess, './Measure/Classes/aaa', global_step=i)\n",
    "            \n",
    "            ### TENSORBOARD ###\n",
    "            if tensorBoard:\n",
    "                summary_str = sess.run(merged_summary_op, feed_dict={xs: batch_xs, ys: batch_ys})\n",
    "                summary_writer.add_summary(summary_str, i)\n",
    "\n"
   ]
  }
 ],
 "metadata": {
  "kernelspec": {
   "display_name": "Python 3",
   "language": "python",
   "name": "python3"
  },
  "language_info": {
   "codemirror_mode": {
    "name": "ipython",
    "version": 3
   },
   "file_extension": ".py",
   "mimetype": "text/x-python",
   "name": "python",
   "nbconvert_exporter": "python",
   "pygments_lexer": "ipython3",
   "version": "3.5.3"
  }
 },
 "nbformat": 4,
 "nbformat_minor": 2
}
