{
 "cells": [
  {
   "cell_type": "markdown",
   "metadata": {},
   "source": [
    "# Import"
   ]
  },
  {
   "cell_type": "code",
   "execution_count": 5,
   "metadata": {
    "collapsed": true
   },
   "outputs": [],
   "source": [
    "import numpy as np\n",
    "import tensorflow as tf\n",
    "import cv2\n",
    "from subprocess import check_output\n",
    "import os\n",
    "import csv"
   ]
  },
  {
   "cell_type": "markdown",
   "metadata": {},
   "source": [
    "# Parameters"
   ]
  },
  {
   "cell_type": "code",
   "execution_count": 6,
   "metadata": {
    "collapsed": true
   },
   "outputs": [],
   "source": [
    "epochs=20\n",
    "batchSize=100\n",
    "learningRate=1e-4\n",
    "dropOutFactor=0.5\n",
    "trainSize=1000\n",
    "testSize=1000\n"
   ]
  },
  {
   "cell_type": "markdown",
   "metadata": {},
   "source": [
    "# Extract the images"
   ]
  },
  {
   "cell_type": "code",
   "execution_count": 7,
   "metadata": {
    "collapsed": true
   },
   "outputs": [],
   "source": [
    "#Extract all the file in the folder\n",
    "#listImage=check_output([\"ls\", \"Dataset/train\"]).decode(\"utf8\")\n",
    "fileNames = os.listdir(\"C:/Users/ANTHO/Desktop/TestTensorFlow/CIFAR10/Dataset/train/\")\n",
    "fileNames = sorted(fileNames, key=lambda \n",
    "                    item: (int(item.partition('.')[0]) if item[0].isdigit() else float('inf'), item)) \n",
    "\n",
    "# select a subset of files\n",
    "fileNames = fileNames[:]\n"
   ]
  },
  {
   "cell_type": "markdown",
   "metadata": {},
   "source": [
    "#Print image\n",
    "img = cv2.imread('C:/Users/ANTHO/Desktop/TestTensorFlow/CIFAR10/Dataset/train/'+file_names[0], cv2.IMREAD_COLOR)\n",
    "cv2.imshow('image',img)\n",
    "cv2.waitKey(0)\n",
    "cv2.destroyAllWindows()\n",
    "#Size of the image (32x32x3)"
   ]
  },
  {
   "cell_type": "code",
   "execution_count": 8,
   "metadata": {},
   "outputs": [
    {
     "name": "stdout",
     "output_type": "stream",
     "text": [
      "(50000, 1024)\n"
     ]
    }
   ],
   "source": [
    "#Extract all the image flatten and write them in an array\n",
    "imgs=[]\n",
    "for fileName in fileNames:   \n",
    "    img = cv2.imread('C:/Users/ANTHO/Desktop/TestTensorFlow/CIFAR10/Dataset/train/'+fileName, cv2.IMREAD_GRAYSCALE )\n",
    "    #cv2.IMREAD_COLOR\n",
    "    #cv2.IMREAD_GRAYSCALE \n",
    "    img = img.ravel()#Flatten the image\n",
    "    imgs.append(img)\n",
    "imgs=np.matrix(imgs)\n",
    "    \n",
    "#Size(nbImage, nbPixel)\n",
    "print(imgs.shape)"
   ]
  },
  {
   "cell_type": "markdown",
   "metadata": {},
   "source": [
    "#Build back the image\n",
    "imgBack=np.matrix(imgs[1])\n",
    "imgBack = np.asarray(arr2).reshape((32,32,3))\n",
    "cv2.imshow('image',imgBack)\n",
    "cv2.waitKey(0)\n",
    "cv2.destroyAllWindows()"
   ]
  },
  {
   "cell_type": "markdown",
   "metadata": {},
   "source": [
    "# Extract the Labels"
   ]
  },
  {
   "cell_type": "code",
   "execution_count": 9,
   "metadata": {
    "collapsed": true
   },
   "outputs": [],
   "source": [
    "with open('C:/Users/ANTHO/Desktop/TestTensorFlow/CIFAR10/Dataset/trainLabels.csv', 'r') as f:\n",
    "    reader = csv.reader(f)\n",
    "    labels = np.matrix(list(reader))\n",
    "    labels = labels[1:]#Remove the header line"
   ]
  },
  {
   "cell_type": "code",
   "execution_count": 10,
   "metadata": {
    "collapsed": true
   },
   "outputs": [],
   "source": [
    "#Convert to a one hot representation\n",
    "labelsHot = np.zeros((len(labels),10))\n",
    "idx=0\n",
    "for num in np.asarray(labels[:,2]):\n",
    "    num=int(num[0])\n",
    "    labelsHot[idx, num-1]=1\n",
    "    idx+=1"
   ]
  },
  {
   "cell_type": "markdown",
   "metadata": {},
   "source": [
    "# Select size of train and test "
   ]
  },
  {
   "cell_type": "code",
   "execution_count": 11,
   "metadata": {
    "collapsed": true
   },
   "outputs": [],
   "source": [
    "imgsTrain = imgs[(50000-testSize):]\n",
    "labelsHotTrain = labelsHot[(50000-testSize):]\n",
    "\n",
    "imgs=imgs[0:trainSize]\n",
    "labelsHot=labelsHot[0:trainSize]"
   ]
  },
  {
   "cell_type": "markdown",
   "metadata": {},
   "source": [
    "# Convolutional Neural Network"
   ]
  },
  {
   "cell_type": "code",
   "execution_count": 12,
   "metadata": {
    "collapsed": true
   },
   "outputs": [],
   "source": [
    "#Function\n",
    "def compute_accuracy(v_xs, v_ys):\n",
    "    global prediction\n",
    "    y_pre = sess.run(prediction, feed_dict={xs: v_xs, keep_prob: 1})\n",
    "    correct_prediction = tf.equal(tf.argmax(y_pre,1), tf.argmax(v_ys,1))\n",
    "    accuracy = tf.reduce_mean(tf.cast(correct_prediction, tf.float32))\n",
    "    result = sess.run(accuracy, feed_dict={xs: v_xs, ys: v_ys, keep_prob: 1})\n",
    "    return result\n",
    "\n",
    "def weight_variable(shape):\n",
    "    initial = tf.truncated_normal(shape, stddev=0.1)\n",
    "    return tf.Variable(initial)\n",
    "\n",
    "def bias_variable(shape):\n",
    "    initial = tf.constant(0.1, shape=shape)\n",
    "    return tf.Variable(initial)\n",
    "\n",
    "def conv2d(x, W):\n",
    "    # stride [1, x_movement, y_movement, 1]\n",
    "    # Must have strides[0] = strides[3] = 1\n",
    "    return tf.nn.conv2d(x, W, strides=[1, 1, 1, 1], padding='SAME')\n",
    "\n",
    "def max_pool_2x2(x):\n",
    "    # stride [1, x_movement, y_movement, 1]\n",
    "    return tf.nn.max_pool(x, ksize=[1,2,2,1], strides=[1,2,2,1], padding='SAME')"
   ]
  },
  {
   "cell_type": "code",
   "execution_count": 13,
   "metadata": {
    "collapsed": true
   },
   "outputs": [],
   "source": [
    "#Architecture\n",
    "# define placeholder for inputs to network\n",
    "xs = tf.placeholder(tf.float32, [None, 1024])/255.   # 32x32x3\n",
    "ys = tf.placeholder(tf.float32, [None, 10])\n",
    "keep_prob = tf.placeholder(tf.float32)\n",
    "x_image = tf.reshape(xs, [-1, 32, 32, 1])#[batch, in_depth, in_height, in_width, in_channels].\n",
    "# print(x_image.shape)  # [n_samples, 28,28,1]\n",
    "\n",
    "## conv1 layer ##\n",
    "W_conv1 = weight_variable([5,5, 1,32]) # patch 5x5, in size 1, out size 32\n",
    "b_conv1 = bias_variable([32])\n",
    "h_conv1 = tf.nn.relu(conv2d(x_image, W_conv1) + b_conv1) # output size 16x16x32\n",
    "h_pool1 = max_pool_2x2(h_conv1)                                         # output size 14x14x32\n",
    "\n",
    "## conv2 layer ##\n",
    "W_conv2 = weight_variable([5,5, 32, 64]) # patch 5x5, in size 32, out size 64\n",
    "b_conv2 = bias_variable([64])\n",
    "h_conv2 = tf.nn.relu(conv2d(h_pool1, W_conv2) + b_conv2) # output size 14x14x64\n",
    "h_pool2 = max_pool_2x2(h_conv2)                                         # output size 7x7x64\n",
    "\n",
    "## fc1 layer ##\n",
    "W_fc1 = weight_variable([8*8*64, 1024])\n",
    "b_fc1 = bias_variable([1024])\n",
    "# [n_samples, 7, 7, 64] ->> [n_samples, 7*7*64]\n",
    "h_pool2_flat = tf.reshape(h_pool2, [-1, 8*8*64])\n",
    "h_fc1 = tf.nn.relu(tf.matmul(h_pool2_flat, W_fc1) + b_fc1)\n",
    "h_fc1_drop = tf.nn.dropout(h_fc1, keep_prob)\n",
    "\n",
    "## fc2 layer ##\n",
    "W_fc2 = weight_variable([1024, 10])\n",
    "b_fc2 = bias_variable([10])\n",
    "prediction = tf.nn.softmax(tf.matmul(h_fc1_drop, W_fc2) + b_fc2)\n",
    "\n",
    "\n",
    "# the error between prediction and real data\n",
    "cross_entropy = tf.reduce_mean(-tf.reduce_sum(ys * tf.log(prediction),\n",
    "                                              reduction_indices=[1]))       # loss\n",
    "train_step = tf.train.AdamOptimizer(learningRate).minimize(cross_entropy)\n",
    "#train_step = tf.train.GradientDescentOptimizer(0.5).minimize(cross_entropy)"
   ]
  },
  {
   "cell_type": "code",
   "execution_count": 14,
   "metadata": {},
   "outputs": [
    {
     "name": "stdout",
     "output_type": "stream",
     "text": [
      "0.119\n",
      "0.119\n",
      "0.119\n",
      "0.119\n",
      "0.119\n",
      "0.119\n",
      "0.119\n",
      "0.119\n",
      "0.119\n",
      "0.119\n",
      "0.119\n",
      "0.119\n",
      "0.119\n",
      "0.119\n",
      "0.119\n",
      "0.119\n",
      "0.119\n",
      "0.119\n",
      "0.119\n",
      "0.119\n"
     ]
    }
   ],
   "source": [
    "#Training\n",
    "sess = tf.Session()\n",
    "# important step\n",
    "# tf.initialize_all_variables() no long valid from\n",
    "# 2017-03-02 if using tensorflow >= 0.12\n",
    "if int((tf.__version__).split('.')[1]) < 12 and int((tf.__version__).split('.')[0]) < 1:\n",
    "    init = tf.initialize_all_variables()\n",
    "else:\n",
    "    init = tf.global_variables_initializer()\n",
    "sess.run(init)\n",
    "\n",
    "if int(len(imgs)) < batchSize:#If there are less data than the batch size\n",
    "    batchSize=int(len(imgs))\n",
    "  \n",
    "for i in range(epochs):#Go through all the epochs\n",
    "    for batchNum in range(int(len(imgs)/batchSize)):#Go through all the batches\n",
    "        batch_xs = imgs[batchNum*batchSize:((batchNum+1)*batchSize)]\n",
    "        batch_ys = labelsHot[batchNum*batchSize:((batchNum+1)*batchSize)]\n",
    "        sess.run(train_step, feed_dict={xs: batch_xs, ys: batch_ys, keep_prob: dropOutFactor})\n",
    "    if i % 1 == 0:\n",
    "        print(compute_accuracy(imgsTrain, labelsHotTrain)) \n",
    "        \n"
   ]
  },
  {
   "cell_type": "markdown",
   "metadata": {},
   "source": [
    "if int(len(imgs)) < batchSize:#If there are less data than the batch size\n",
    "    batchSize=int(len(imgs))\n",
    "    \n",
    "with tf.Session() as sess:\n",
    "#sess= tf.Session();\n",
    "    init = tf.global_variables_initializer()\n",
    "    sess.run(init)\n",
    "\n",
    "    for i in range(epochs):#Go through all the epochs\n",
    "        for batchNum in range(int(len(imgs)/batchSize)):#Go through all the batches\n",
    "            batch_xs = imgs[batchNum*batchSize:((batchNum+1)*batchSize)]\n",
    "            batch_ys = labelsHot[batchNum*batchSize:((batchNum+1)*batchSize)]\n",
    "            sess.run(train_step, feed_dict={xs: batch_xs, ys: batch_ys, keep_prob: dropOutFactor})\n",
    "    if i % 1 == 0:\n",
    "        print(compute_accuracy(imgsTrain, labelsHotTrain)) "
   ]
  }
 ],
 "metadata": {
  "kernelspec": {
   "display_name": "Python 3",
   "language": "python",
   "name": "python3"
  },
  "language_info": {
   "codemirror_mode": {
    "name": "ipython",
    "version": 3
   },
   "file_extension": ".py",
   "mimetype": "text/x-python",
   "name": "python",
   "nbconvert_exporter": "python",
   "pygments_lexer": "ipython3",
   "version": "3.5.3"
  }
 },
 "nbformat": 4,
 "nbformat_minor": 2
}
